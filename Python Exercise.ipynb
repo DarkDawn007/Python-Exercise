{
 "cells": [
  {
   "cell_type": "code",
   "execution_count": 3,
   "id": "e87d7abb",
   "metadata": {},
   "outputs": [
    {
     "name": "stdout",
     "output_type": "stream",
     "text": [
      "Enter the Text Hello23\n",
      "True\n"
     ]
    }
   ],
   "source": [
    "#Exercise 1\n",
    "r=input(\"Enter the Text \")\n",
    "if(r.isalpha()):\n",
    "    print(\"False\")\n",
    "elif(r.isalnum()):\n",
    "    print(\"True\")\n",
    "else:\n",
    "    print(\"False\")"
   ]
  },
  {
   "cell_type": "code",
   "execution_count": 4,
   "id": "2c4c6c0f",
   "metadata": {},
   "outputs": [
    {
     "name": "stdout",
     "output_type": "stream",
     "text": [
      "Enter HillOw\n",
      "wOlliH\n"
     ]
    }
   ],
   "source": [
    "#Exercise 2\n",
    "print(input(\"Enter \")[::-1])"
   ]
  },
  {
   "cell_type": "code",
   "execution_count": 12,
   "id": "bd2b4df4",
   "metadata": {},
   "outputs": [
    {
     "name": "stdout",
     "output_type": "stream",
     "text": [
      "Enter the Number3\n",
      "Fall\n"
     ]
    }
   ],
   "source": [
    "#Exercise 3\n",
    "s=int(input(\"Enter the Number\"))\n",
    "if(s==1):\n",
    "    print(\"Spring\")\n",
    "elif(s==2):\n",
    "    print(\"Summer\")\n",
    "elif(s==3):\n",
    "    print(\"Fall\")\n",
    "elif(s==4):\n",
    "    print(\"Winter\")\n",
    "else:\n",
    "    print(\"Enter a Valid Number\")"
   ]
  },
  {
   "cell_type": "code",
   "execution_count": 16,
   "id": "5e9206d6",
   "metadata": {},
   "outputs": [
    {
     "name": "stdout",
     "output_type": "stream",
     "text": [
      "Enter A4\n",
      "Enter B3\n",
      "Not Equal\n"
     ]
    }
   ],
   "source": [
    "#Exercise 4\n",
    "if( (int(input(\"Enter A\")))==(int(input(\"Enter B\")))==(int(input(\"Enter C\"))) ):\n",
    "    print(\"Equal\")\n",
    "else:\n",
    "    print(\"Not Equal\")"
   ]
  },
  {
   "cell_type": "code",
   "execution_count": 29,
   "id": "26865428",
   "metadata": {},
   "outputs": [
    {
     "name": "stdout",
     "output_type": "stream",
     "text": [
      "January 31\n",
      "February 28\n",
      "March 31\n",
      "April 30\n",
      "May 31\n",
      "June 30\n",
      "July 31\n",
      "August 30\n",
      "September 31\n",
      "October 30\n",
      "November 31\n",
      "December 30\n"
     ]
    }
   ],
   "source": [
    "#Exercise 5\n",
    "import calendar\n",
    "\n",
    "for i in range(1,13):\n",
    "    if(i%2==1):\n",
    "        print(calendar.month_name[i],\"31\")\n",
    "    elif(i==2):\n",
    "        print(calendar.month_name[i],\"28\")\n",
    "    else:\n",
    "        print(calendar.month_name[i],\"30\")\n",
    "    \n"
   ]
  },
  {
   "cell_type": "code",
   "execution_count": 31,
   "id": "45f36a75",
   "metadata": {},
   "outputs": [
    {
     "name": "stdout",
     "output_type": "stream",
     "text": [
      "2\n",
      "4\n",
      "6\n",
      "8\n",
      "10\n",
      "12\n",
      "14\n",
      "16\n",
      "18\n",
      "20\n",
      "22\n",
      "24\n",
      "26\n",
      "28\n",
      "30\n",
      "32\n",
      "34\n",
      "36\n",
      "38\n",
      "40\n",
      "42\n",
      "44\n",
      "46\n",
      "48\n",
      "50\n",
      "52\n",
      "54\n",
      "56\n",
      "58\n",
      "60\n",
      "62\n",
      "64\n",
      "66\n",
      "68\n",
      "70\n",
      "72\n",
      "74\n",
      "76\n",
      "78\n",
      "80\n",
      "82\n",
      "84\n",
      "86\n",
      "88\n",
      "90\n",
      "92\n",
      "94\n",
      "96\n",
      "98\n",
      "100\n",
      "102\n",
      "104\n",
      "106\n",
      "108\n",
      "110\n",
      "112\n",
      "114\n",
      "116\n",
      "118\n",
      "120\n",
      "122\n",
      "124\n",
      "126\n",
      "128\n",
      "130\n",
      "132\n",
      "134\n",
      "136\n",
      "138\n",
      "140\n",
      "142\n",
      "144\n",
      "146\n",
      "148\n",
      "150\n",
      "152\n",
      "154\n",
      "156\n",
      "158\n",
      "160\n",
      "162\n",
      "164\n",
      "166\n",
      "168\n",
      "170\n",
      "172\n",
      "174\n",
      "176\n",
      "178\n",
      "180\n",
      "182\n",
      "184\n",
      "186\n",
      "188\n",
      "190\n",
      "192\n",
      "194\n",
      "196\n",
      "198\n",
      "200\n"
     ]
    }
   ],
   "source": [
    "#Exercise 6\n",
    "for i in range(1,201):\n",
    "    if(i%2==0):\n",
    "        print(i)"
   ]
  },
  {
   "cell_type": "code",
   "execution_count": 42,
   "id": "10b94565",
   "metadata": {},
   "outputs": [
    {
     "name": "stdout",
     "output_type": "stream",
     "text": [
      "Enter Year 2024\n",
      "Yes\n"
     ]
    }
   ],
   "source": [
    "#Exercise 7\n",
    "y=int(input(\"Enter Year \"))\n",
    "if(y%4!=0 and y%400!=0):\n",
    "    print(\"No\")\n",
    "else:\n",
    "    print(\"Yes\")"
   ]
  },
  {
   "cell_type": "code",
   "execution_count": 61,
   "id": "2bd3b2ac",
   "metadata": {},
   "outputs": [
    {
     "name": "stdout",
     "output_type": "stream",
     "text": [
      "Enter rock\n",
      "Opponent Choose rock\n",
      "Its a Tie\n",
      "Enter exit\n",
      "Exiting\n"
     ]
    }
   ],
   "source": [
    "#Exercise 8\n",
    "import random\n",
    "l=[\"rock\",\"paper\",\"scissors\"]\n",
    "p1=True\n",
    "while(p1):\n",
    "    p1=input(\"Enter \")\n",
    "    p2=random.choice(l)\n",
    "    if(p1==p2):\n",
    "        print(\"Opponent Choose\",p2)\n",
    "        print(\"Its a Tie\")\n",
    "    elif(p1==\"rock\" and p2==\"paper\"):\n",
    "        print(\"Opponent Choose\",p2)\n",
    "        print(\"Paper beats Rock you Lose\")\n",
    "    elif(p1==\"scissors\" and p2==\"paper\"):\n",
    "        print(\"Opponent Choose\",p2)\n",
    "        print(\"Scissors beats Paper you Won\")\n",
    "    elif(p1==\"scissors\" and p2==\"rock\"):\n",
    "        print(\"Opponent Choose\",p2)\n",
    "        print(\"Rock beats Scissors you Lose\")\n",
    "    elif(p1==\"paper\" and p2==\"rock\"):\n",
    "        print(\"Opponent Choose\",p2)\n",
    "        print(\"Paper beats Rock you Won\")\n",
    "    elif(p1==\"rock\" and p2==\"scissors\"):\n",
    "        print(\"Opponent Choose\",p2)\n",
    "        print(\"Rock beats Scissors you Won\")\n",
    "    elif(p1==\"paper\" and p2==\"rock\"):\n",
    "        print(\"Opponent Choose\",p2)\n",
    "        print(\" Paper beats Rock you Lose\")\n",
    "    elif(p1==\"exit\"):\n",
    "        print(\"Exiting\")\n",
    "        p1=False\n",
    "    else:\n",
    "        print(\"Enter Valid\")\n",
    "\n"
   ]
  },
  {
   "cell_type": "code",
   "execution_count": 83,
   "id": "1a84605a",
   "metadata": {
    "scrolled": true
   },
   "outputs": [
    {
     "name": "stdout",
     "output_type": "stream",
     "text": [
      "[ ['1', '2', '3', '4'] ]\n",
      "['a', 'b']\n",
      "['1', '2', '3']\n",
      "[]\n"
     ]
    }
   ],
   "source": [
    "#Exercise 9\n",
    "t=(\"1\",\"1\",\"2\",\"3\",\"4\",\"4\")\n",
    "l=[\"a\",\"a\",\"b\",\"a\"]\n",
    "t2=(\"1\",\"2\",\"3\")\n",
    "l2=[]\n",
    "print(sorted(set(t)))\n",
    "print(sorted(set(l)))\n",
    "print(sorted(set(t2)))\n",
    "print(sorted(set(l2)))"
   ]
  },
  {
   "cell_type": "code",
   "execution_count": 71,
   "id": "24ff72cb",
   "metadata": {},
   "outputs": [
    {
     "name": "stdout",
     "output_type": "stream",
     "text": [
      "Enter Seconds 7200\n",
      "Seconds  7200\n",
      "Minutes  120\n",
      "Hours  2.0\n"
     ]
    }
   ],
   "source": [
    "#Exercise 10\n",
    "r=int(input(\"Enter Seconds \"))\n",
    "print(\"Seconds \",r)\n",
    "print(\"Minutes \",(r//60))\n",
    "print(\"Hours \",(r/3600#))"
   ]
  },
  {
   "cell_type": "code",
   "execution_count": 84,
   "id": "8923bca8",
   "metadata": {},
   "outputs": [
    {
     "name": "stdout",
     "output_type": "stream",
     "text": [
      "Enter height in meters5200\n",
      "Enter weight in Kilogram50\n",
      "BMI  0.01849112426035503 kg/m2\n",
      "Underweight\n"
     ]
    }
   ],
   "source": [
    "#Exercise 11\n",
    "h=int(input(\"Enter height in meters\"))\n",
    "w=int(input(\"Enter weight in Kilogram\"))\n",
    "b=(w/(h*h))*10000\n",
    "print(\"BMI \",b,\"kg/m2\")\n",
    "if(b<18.5):\n",
    "    print(\"Underweight\")\n",
    "elif(b>=18.5 and b<=24.9):\n",
    "    print(\"Normal\")\n",
    "elif(b>=25 and b<=29.9):\n",
    "    print(\"Overweight\")\n",
    "else:\n",
    "    print(\"Obesity\")\n",
    "\n"
   ]
  }
 ],
 "metadata": {
  "kernelspec": {
   "display_name": "Python 3 (ipykernel)",
   "language": "python",
   "name": "python3"
  },
  "language_info": {
   "codemirror_mode": {
    "name": "ipython",
    "version": 3
   },
   "file_extension": ".py",
   "mimetype": "text/x-python",
   "name": "python",
   "nbconvert_exporter": "python",
   "pygments_lexer": "ipython3",
   "version": "3.9.12"
  }
 },
 "nbformat": 4,
 "nbformat_minor": 5
}
